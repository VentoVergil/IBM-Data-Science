{
  "metadata": {
    "kernelspec": {
      "name": "python",
      "display_name": "Python (Pyodide)",
      "language": "python"
    },
    "language_info": {
      "codemirror_mode": {
        "name": "python",
        "version": 3
      },
      "file_extension": ".py",
      "mimetype": "text/x-python",
      "name": "python",
      "nbconvert_exporter": "python",
      "pygments_lexer": "ipython3",
      "version": "3.8"
    }
  },
  "nbformat_minor": 5,
  "nbformat": 4,
  "cells": [
    {
      "id": "55a6840d-4fe2-4893-924d-abdfb0a19728",
      "cell_type": "markdown",
      "source": "# Data Science Tools and Ecosystem",
      "metadata": {}
    },
    {
      "id": "ff272252-b503-4175-813e-857ed95c6075",
      "cell_type": "markdown",
      "source": "## Author\nEffiong Ekpe",
      "metadata": {}
    },
    {
      "id": "3d4481d5-2f27-4edc-9987-a067631dcbc8",
      "cell_type": "markdown",
      "source": "In this notebook, Data Science Tools and Ecosystem are summarized.",
      "metadata": {}
    },
    {
      "id": "4a9be972-3eb8-4e07-ba3a-9dd880b565b8",
      "cell_type": "markdown",
      "source": "**Objectives:**\n- List some popular programming languages used by Data Scientists\n- List some common libraries used by Data Scientists\n- Perform a basic arithmetic expression\n- Convert minutes to seconds",
      "metadata": {}
    },
    {
      "id": "ea5813c4-ebcb-474a-8c37-c0cb6f3481a0",
      "cell_type": "markdown",
      "source": "Some of the popular languages that Data Scientists use are:\n1. Python\n2. R\n3. SQL\n4. Java",
      "metadata": {}
    },
    {
      "id": "bc0b3c8a-d438-484d-aeb9-85c9ae1bbb97",
      "cell_type": "markdown",
      "source": "Some of the commonly used libraries used by Data Scientists include:\n1. Pandas\n2. Matplotlib\n3. Scikit-learn\n4. Tensorflow\n5. Keras\n6. Scipy\n7. Seaborn",
      "metadata": {}
    },
    {
      "id": "2e43aab3-27a2-4654-859c-8aa420946920",
      "cell_type": "markdown",
      "source": "| Data Science Tools |\n|:-----------|\n|Google Colab|\n|Jupyter Lab|\n|R Studio|\n",
      "metadata": {}
    },
    {
      "id": "d42e31fc-b3d6-450d-be82-771d2c5d10ea",
      "cell_type": "markdown",
      "source": "### Below are a few examples of evaluating arithmetic expressions in Python",
      "metadata": {}
    },
    {
      "id": "7180f340-c96c-4622-beb8-80be7e3f08ea",
      "cell_type": "code",
      "source": "# This a simple arithmetic expression to mutiply then add integers\n(3*4) + 5",
      "metadata": {
        "trusted": true
      },
      "outputs": [
        {
          "execution_count": 7,
          "output_type": "execute_result",
          "data": {
            "text/plain": "17"
          },
          "metadata": {}
        }
      ],
      "execution_count": 7
    },
    {
      "id": "e828dd52-2c01-41d0-9aa2-9414fc6dcc1b",
      "cell_type": "code",
      "source": "# This will convert 200 minutes to hours by diving by 60\n200/60 ",
      "metadata": {
        "trusted": true
      },
      "outputs": [
        {
          "execution_count": 20,
          "output_type": "execute_result",
          "data": {
            "text/plain": "3.3333333333333335"
          },
          "metadata": {}
        }
      ],
      "execution_count": 20
    },
    {
      "id": "d2748dc5-1ae6-40fb-b58f-b0eee8160908",
      "cell_type": "code",
      "source": "",
      "metadata": {
        "trusted": true
      },
      "outputs": [],
      "execution_count": null
    }
  ]
}