Module 5: Python Project for Data Science peer graded assignment
